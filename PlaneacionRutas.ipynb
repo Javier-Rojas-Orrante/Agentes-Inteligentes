{
 "cells": [
  {
   "cell_type": "code",
   "execution_count": 1,
   "metadata": {},
   "outputs": [],
   "source": [
    "# Mapeo de (x,y) a (r,c)\n",
    "import numpy as np\n",
    "mars_map = np.load('mars_map.npy')\n",
    "nr, nc = mars_map.shape\n"
   ]
  },
  {
   "cell_type": "markdown",
   "metadata": {},
   "source": [
    "$r = n_r - round(\\frac{y}{cscala})$ \n",
    "\n",
    "$c = round(\\frac{x}{cscala})$ \n",
    "\n",
    "Donde $n_r$ y $n_c$ son los números de renglones y columnas de la imagen o matriz de datos (en este caso 1814 y 756), y la escala indica la cantidad de metros por cada pixel (10.0174)."
   ]
  },
  {
   "cell_type": "code",
   "execution_count": null,
   "metadata": {},
   "outputs": [],
   "source": [
    "# TODO: Cambiar variables (x,y) y no se si round este bien\n",
    "cscala = 10.0174\n",
    "r = nr - round('y'/cscala)\n",
    "c =round('x'/cscala)"
   ]
  }
 ],
 "metadata": {
  "kernelspec": {
   "display_name": "Python 3",
   "language": "python",
   "name": "python3"
  },
  "language_info": {
   "name": "python",
   "version": "3.12.1"
  }
 },
 "nbformat": 4,
 "nbformat_minor": 2
}
