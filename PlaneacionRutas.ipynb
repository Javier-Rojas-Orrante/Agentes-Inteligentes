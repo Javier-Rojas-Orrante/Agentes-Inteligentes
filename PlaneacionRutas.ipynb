{
 "cells": [
  {
   "cell_type": "markdown",
   "metadata": {},
   "source": [
    "# Planeación de rutas para la exploración en Marte"
   ]
  },
  {
   "cell_type": "code",
   "execution_count": 1,
   "metadata": {},
   "outputs": [
    {
     "name": "stdout",
     "output_type": "stream",
     "text": [
      "Collecting simpleai\n",
      "  Using cached simpleai-0.8.3.tar.gz (94 kB)\n",
      "  Preparing metadata (setup.py) ... \u001b[?25ldone\n",
      "\u001b[?25hRequirement already satisfied: numpy in /Users/javier/anaconda3/envs/myenv/lib/python3.12/site-packages (1.26.3)\n",
      "Building wheels for collected packages: simpleai\n",
      "  Building wheel for simpleai (setup.py) ... \u001b[?25ldone\n",
      "\u001b[?25h  Created wheel for simpleai: filename=simpleai-0.8.3-py3-none-any.whl size=100984 sha256=ea4a0aa33f0727b88f80ee265e1522834420cb34a1b1c4a97548f5b4916bfa80\n",
      "  Stored in directory: /Users/javier/Library/Caches/pip/wheels/04/84/76/e493a82b60c25f283e4d315ac3b9b9ff44470556da775c58ad\n",
      "Successfully built simpleai\n",
      "Installing collected packages: simpleai\n",
      "Successfully installed simpleai-0.8.3\n"
     ]
    }
   ],
   "source": [
    "!pip install simpleai numpy"
   ]
  },
  {
   "cell_type": "code",
   "execution_count": 2,
   "metadata": {},
   "outputs": [],
   "source": [
    "\n",
    "# Mapeo de (x,y) a (r,c)\n",
    "import numpy as np\n",
    "mars_map = np.load('mars_map.npy')\n",
    "nr, nc = mars_map.shape\n"
   ]
  },
  {
   "cell_type": "code",
   "execution_count": 3,
   "metadata": {},
   "outputs": [],
   "source": [
    "cscala = 10.0174\n",
    "\n",
    "# def mapeo(x, y):\n",
    "#     r = nr - round(y/cscala)\n",
    "#     c = round(x/cscala)\n",
    "#     return r, c\n",
    "\n",
    "def mapeo(x, y):\n",
    "    r = max(0, min(nr - round(y / cscala), nr - 1))\n",
    "    c = max(0, min(round(x / cscala), nc - 1))\n",
    "    return r, c"
   ]
  },
  {
   "cell_type": "code",
   "execution_count": 59,
   "metadata": {},
   "outputs": [],
   "source": [
    "#-------------------------------------------------------------------------------\n",
    "#    Esqueleto de PSA para el problema de ...\n",
    "#-------------------------------------------------------------------------------\n",
    "\n",
    "from simpleai.search import SearchProblem, depth_first, breadth_first, uniform_cost, astar, limited_depth_first\n",
    "from simpleai.search.viewers import BaseViewer, ConsoleViewer, WebViewer\n",
    "\n",
    "#-------------------------------------------------------------------------------\n",
    "#   Definición del problema\n",
    "#-------------------------------------------------------------------------------\n",
    "\n",
    "class Problem(SearchProblem):\n",
    "    \"\"\"\n",
    "        Clase que es usada para crear el objeto problema. Los estados son representados con\n",
    "        una estructura en Python que guarde la información descrita en la formulación del PSA.\n",
    "    \"\"\"\n",
    "\n",
    "    def __init__(self, origen, destino, map, change_in_heigth):\n",
    "        \"\"\" Constructor de la clase. Inicializa el problema de acuerdo un conjunto de\n",
    "            argumentos.\n",
    "\n",
    "            origen: ([row inicial, col inicial]) \n",
    "            destino: ([row final, col final])\n",
    "            map : Matriz con el mapa de Marte\n",
    "            change_in_heigth: Valor umbral para el cambio de altura \n",
    "a\n",
    "        \"\"\"\n",
    "\n",
    "        # Construye el estado inicial a partir de los argumentos especificados de acuerdo\n",
    "        # a lo definido en la formulación del PSA.\n",
    "\n",
    "        # Define las acciones posibles que puede ejecutar el agente\n",
    "        self.moves = [[1,0], [-1,0], [0,1], [0,-1]] # Abajo, Arriba, Derecha, Izquierda\n",
    "\n",
    "        # Define el mapa de marte\n",
    "        self.map = map \n",
    "        # Define el tamaño del mapa en filas\n",
    "        self.nr = map.shape[0]\n",
    "        # Define el tamaño del mapa en columnas\n",
    "        self.nc = map.shape[1]\n",
    "        # Define el cambio de altura máximo permitido\n",
    "        self.change_in_heigth = change_in_heigth\n",
    "        \n",
    "        # Define el estado inicial (obligatorio).\n",
    "        # Posicion inicial\n",
    "        origen = (origen[0], origen[1]) \n",
    "\n",
    "        # ll# Llama al constructor de su superclase SearchProblem (start = estado inicial).\n",
    "        SearchProblem.__init__(self, origen)      # Starting position\n",
    "        self.position = (2850, 6400)\n",
    "        \n",
    "        # Define el estado meta (opcional).\n",
    "        # Posicion final\n",
    "        self.goal_state = (destino[0], destino[1])\n",
    "        \n",
    "    def actions(self, state):\n",
    "        \"\"\"\n",
    "            Regresa una lista con las acciones legales del agente.\n",
    "\n",
    "            state: [x, y] Estado actual del agente.\n",
    "        \"\"\"\n",
    "\n",
    "        # Determina las acciones legales según el estado recibido y las precondiciones\n",
    "        # de cada acción posible, para luego colocarlas en una lista de python\n",
    "\n",
    "        acciones = []\n",
    "\n",
    "        # Verifica si la acción es legal\n",
    "        for move in self.moves:\n",
    "            # Calcula el siguiente estado\n",
    "            next_state = (state[0] + move[0], state[1] + move[1])\n",
    "            # Verifica si la acción esta dentro de los limites y el valor no es -1\n",
    "            if (next_state[0] >= 0 and next_state[0] < self.nr and next_state[1] >= 0 and next_state[1] < self.nc and self.map[next_state[0], next_state[1]] != -1 and abs(self.map[next_state[0], next_state[1]] - self.map[state[0], state[1]]) < self.change_in_heigth):\n",
    "                acciones.append(move)\n",
    "\n",
    "\n",
    "        return acciones\n",
    "\n",
    "    def result(self, state, action):                                   \n",
    "        ''''\n",
    "            Regresa el nuevo estado al ejecutar una acción                   \n",
    "            state: ([row, col) Lista con la posición actual del rover.\n",
    "            action: [delta_row, delta_col] Lista de enteros indicando el movimiento del rover en los ejes x e y.\n",
    "        '''              \n",
    "        # Implementa el modelo de transición para determinar el nuevo estado a par \n",
    "        # de aplicar la acción al estado especifica                \n",
    "        \n",
    "        # Calcula el nuevo estado\n",
    "        new_state = (state[0] + action[0], state[1] + action[1])\n",
    "\n",
    "        return new_state\n",
    "        \n",
    "\n",
    "    def is_goal(self, state):\n",
    "        \"\"\"\n",
    "            Determina si se ha llegado a un estado meta.\n",
    "\n",
    "            state: Estado a ser evaluado.\n",
    "        \"\"\"\n",
    "\n",
    "        # efectúa la prueba de meta para determinar si se ha llegado a un\n",
    "        # estado deseado\n",
    "\n",
    "        if(self.goal_state == state):\n",
    "            return True\n",
    "\n",
    "\n",
    "    def cost(self, state, action, state2):\n",
    "        \"\"\"\n",
    "            Regresa el costo de ejecutar una acción.\n",
    "\n",
    "            state: ...\n",
    "            action: ...\n",
    "            state2: ...\n",
    "        \"\"\"\n",
    "\n",
    "        # regresa un número que representa el costo de ejecutar action sobre\n",
    "        # el estado state para producir el estado state2\n",
    "        \n",
    "        # Calcula el costo de la acción, en este acaso es 1 para todos los movimientos\n",
    "        return 1\n",
    "\n",
    "\n",
    "    def heuristic(self, state):\n",
    "        \"\"\"\n",
    "        Heurística basada en la distancia de Manhattan para el mapa de Marte.\n",
    "\n",
    "        state: Estado actual del rover (fila, columna).\n",
    "        \"\"\"\n",
    "        # Diferencia absoluta entre las coordenadas del estado actual y el estado meta\n",
    "        return abs(state[0] - self.goal_state[0]) + abs(state[1] - self.goal_state[1])\n",
    "\n",
    "\n",
    "# Despliega la secuencia de estados y acciones obtenidas como resultado\n",
    "def display(result):\n",
    "    if result is not None:\n",
    "        for i, (action, state) in enumerate(result.path()):\n",
    "            if action == None:\n",
    "                print('Estado inicial')\n",
    "            elif i == len(result.path()) - 1:\n",
    "                print(i,'- Después de la accion', action)\n",
    "                print('¡Meta lograda con costo =', result.cost,'!')\n",
    "            else:\n",
    "                print(i,'- Después de la accion', action)\n",
    "\n",
    "            print('  ', state)\n",
    "    else:\n",
    "        print('Falla: No se pudo resolver el problema')\n",
    "\n"
   ]
  },
  {
   "cell_type": "code",
   "execution_count": 72,
   "metadata": {},
   "outputs": [],
   "source": [
    "#-------------------------------------------------------------------------------\n",
    "#   Solución del problema con diferentes métodos\n",
    "#-------------------------------------------------------------------------------\n",
    "\n",
    "change_in_height = 0.29\n",
    "\n",
    "test_cases = [[mapeo(2850, 6400), mapeo(3150, 6800)],\n",
    "              [mapeo(10000, 2000), mapeo(10500, 2000)], #500 metros de distancia\n",
    "              [mapeo(7000, 2000), mapeo(8000, 2000)],  #1000 metros de distancia\n",
    "              [mapeo(5000, 3000), mapeo(5000, 8000)], #5000 metros de distancia\n",
    "              [mapeo(4000, 7000), mapeo(14000, 7000)] # 10000 metros de distancia\n",
    "              ]\n",
    "\n",
    "# posibles expectadores para las búsquedas\n",
    "my_viewer = None\n",
    "#my_viewer = BaseViewer()       # Solo estadísticas\n",
    "#my_viewer = ConsoleViewer()    # Texto en la consola\n",
    "#my_viewer = WebViewer()        # Abrir en un browser en la liga http://localhost:8000\n",
    "\n",
    "# Crea PSAs y los resuelve usando una estrategia de búsqueda mediante\n",
    "# un algoritmo seleccionado.\n"
   ]
  },
  {
   "cell_type": "markdown",
   "metadata": {},
   "source": [
    "## Prueba de algoritmos de búsqueda"
   ]
  },
  {
   "cell_type": "markdown",
   "metadata": {},
   "source": [
    "#### Primero en anchura"
   ]
  },
  {
   "cell_type": "code",
   "execution_count": 65,
   "metadata": {},
   "outputs": [
    {
     "name": "stdout",
     "output_type": "stream",
     "text": [
      "Estado de solucion: (1136, 314)\n",
      "Costo: 505\n"
     ]
    }
   ],
   "source": [
    "result = breadth_first(Problem(origen=mapeo(2850,6400), destino= mapeo(3150, 6800), map=mars_map, change_in_heigth=change_in_height), graph_search=True, viewer=my_viewer)\n",
    "print(f'Algoritmo: Breadth First\\nEstado de solucion: {result.state}\\nCosto: {result.cost}')"
   ]
  },
  {
   "cell_type": "markdown",
   "metadata": {},
   "source": [
    "#### Primero en profundidad\n"
   ]
  },
  {
   "cell_type": "code",
   "execution_count": 66,
   "metadata": {},
   "outputs": [
    {
     "name": "stdout",
     "output_type": "stream",
     "text": [
      "Estado de solucion: (1136, 314)\n",
      "Costo:3501\n"
     ]
    }
   ],
   "source": [
    "result = depth_first(Problem(origen=mapeo(2850,6400), destino= mapeo(3150, 6800), map=mars_map, change_in_heigth=change_in_height.29), graph_search=True, viewer=my_viewer)\n",
    "print(f'Algoritmo: Depth First\\nEstado de solucion: {result.state}\\nCosto:{result.cost}')"
   ]
  },
  {
   "cell_type": "markdown",
   "metadata": {},
   "source": [
    "#### $A^*$"
   ]
  },
  {
   "cell_type": "code",
   "execution_count": 67,
   "metadata": {},
   "outputs": [
    {
     "name": "stdout",
     "output_type": "stream",
     "text": [
      "Estado de solucion: (1136, 314)\n",
      "Costo: 505\n"
     ]
    }
   ],
   "source": [
    "result = astar(Problem(origen=mapeo(2850,6400), destino= mapeo(3150, 6800), map=mars_map, change_in_heigth=change_in_height), graph_search=True, viewer=my_viewer)\n",
    "print(f'Algoritmo: A-star\\nEstado de solucion: {result.state}\\nCosto: {result.cost}')"
   ]
  },
  {
   "cell_type": "markdown",
   "metadata": {},
   "source": [
    "#### Costo Uniforme"
   ]
  },
  {
   "cell_type": "code",
   "execution_count": 73,
   "metadata": {},
   "outputs": [
    {
     "name": "stdout",
     "output_type": "stream",
     "text": [
      "Algoritmo: Uniform Cost\n",
      "Estado de solucion: (1136, 314)\n",
      "Costo: 505\n"
     ]
    }
   ],
   "source": [
    "result = uniform_cost(Problem(origen=mapeo(2850,6400), destino= mapeo(3150, 6800), map=mars_map, change_in_heigth=change_in_height), graph_search=True, viewer=my_viewer)\n",
    "print(f'Algoritmo: Uniform Cost\\nEstado de solucion: {result.state}\\nCosto: {result.cost}')"
   ]
  },
  {
   "cell_type": "markdown",
   "metadata": {},
   "source": [
    "### Análisis\n",
    "\n",
    "- **¿Qué algoritmos lograron encontrar una ruta válida?**  \n",
    "  Ningún algoritmo logró encontrar una ruta con un límite de diferencia de altura de 0.25. Sin embargo, el límite inferior para que los algoritmos funcionaran fue de 0.29 de diferencia de altura.\n",
    "\n",
    "- **¿Es necesario utilizar búsquedas informadas para este caso?**  \n",
    "  No es necesario. De hecho, la búsqueda informada A* encontró una solución con el mismo costo que la búsqueda de costo uniforme y la búsqueda en anchura.\n",
    "\n",
    "- **¿Qué función heurística resultó adecuada para este problema?**  \n",
    "  Utilizamos la heurística de distancia de Manhattan:\n",
    "\n",
    "  ```python\n",
    "  abs(state[0] - self.goal_state[0]) + abs(state[1] - self.goal_state[1])\n"
   ]
  },
  {
   "cell_type": "markdown",
   "metadata": {},
   "source": [
    "## Rendimiento de los algoritmos de búsqueda para rutas cortas y largas"
   ]
  },
  {
   "cell_type": "markdown",
   "metadata": {},
   "source": [
    "Utilizaremos el metodo $A^*$ para probar los siguientes pares de coordenadas:"
   ]
  },
  {
   "cell_type": "markdown",
   "metadata": {},
   "source": [
    "**Coordenadas**\n",
    "\n",
    "Menor a 500 mts: (1461, 621), (1447, 649), 313.5942230092895\n",
    "\n",
    "Entre 1000 y 5000: (525, 69), (424, 192), 1594.3094144208019\n",
    "\n",
    "Mayor a 10,000 (1700, 553), (288, 379), 14251.560326935967"
   ]
  },
  {
   "cell_type": "code",
   "execution_count": 103,
   "metadata": {},
   "outputs": [
    {
     "name": "stdout",
     "output_type": "stream",
     "text": [
      "Solucion no encontrada\n"
     ]
    }
   ],
   "source": [
    "result1 = astar(Problem(origen=mapeo(1461,621), destino= mapeo(1464, 649), map=mars_map, change_in_heigth=0.29), graph_search=True, viewer=my_viewer)\n",
    "try:\n",
    "    print(f'Algoritmo: A-star\\nEstado de solucion: {result1.state}\\nCosto: {result1.cost}')\n",
    "except:\n",
    "    print('Solucion no encontrada')"
   ]
  },
  {
   "cell_type": "code",
   "execution_count": 86,
   "metadata": {},
   "outputs": [
    {
     "name": "stdout",
     "output_type": "stream",
     "text": [
      "Solucion no encontrada\n"
     ]
    }
   ],
   "source": [
    "result2 = astar(Problem(origen=mapeo(525,69), destino= mapeo(424, 192), map=mars_map, change_in_heigth=change_in_height), graph_search=True, viewer=my_viewer)\n",
    "try:\n",
    "    print(f'Algoritmo: A-star\\nEstado de solucion: {result2.state}\\nCosto: {result2.cost}')\n",
    "except:\n",
    "    print('Solucion no encontrada')"
   ]
  },
  {
   "cell_type": "code",
   "execution_count": 94,
   "metadata": {},
   "outputs": [
    {
     "name": "stdout",
     "output_type": "stream",
     "text": [
      "Solucion no encontrada\n"
     ]
    }
   ],
   "source": [
    "result3 = depth_first(Problem(origen=mapeo(1700,553), destino= mapeo(288, 379), map=mars_map, change_in_heigth=change_in_height), graph_search=True, viewer=my_viewer)\n",
    "try:\n",
    "    print(f'Algoritmo: A-star\\nEstado de solucion: {result3.state}\\nCosto: {result3.cost}')\n",
    "except:\n",
    "    print('Solucion no encontrada')"
   ]
  },
  {
   "cell_type": "markdown",
   "metadata": {},
   "source": [
    "### Analisis\n",
    "- **¿En qué casos el algoritmo es capaz de resolver el problema en un tiempo aceptable?**\n",
    "\n",
    "    En todos los casos A-estrella no pudo encontrar una solucion. \n",
    "    \n",
    "- **En los casos que el algoritmo no encuentra un resultado, ¿qué acciones se podrían realizar para ayudar al algoritmo a resolver el problema?**\n",
    "\n",
    "    Ya que A estrella depende de la heuristica, se podría considerar ajustar la funcion. Asimismo, se podria intentar aumentar el limite de altura que el robot puede trasladar. "
   ]
  }
 ],
 "metadata": {
  "kernelspec": {
   "display_name": "Python 3 (ipykernel)",
   "language": "python",
   "name": "python3"
  },
  "language_info": {
   "codemirror_mode": {
    "name": "ipython",
    "version": 3
   },
   "file_extension": ".py",
   "mimetype": "text/x-python",
   "name": "python",
   "nbconvert_exporter": "python",
   "pygments_lexer": "ipython3",
   "version": "3.12.1"
  }
 },
 "nbformat": 4,
 "nbformat_minor": 2
}
